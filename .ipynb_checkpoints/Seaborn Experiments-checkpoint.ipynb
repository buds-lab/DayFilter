{
 "metadata": {
  "name": "",
  "signature": "sha256:96138a31d429e51d9958223177b1d84c46e26ae8c2237e0807114e2ad2f0ecea"
 },
 "nbformat": 3,
 "nbformat_minor": 0,
 "worksheets": []
}